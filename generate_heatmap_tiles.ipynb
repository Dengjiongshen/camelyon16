{
 "cells": [
  {
   "cell_type": "code",
   "execution_count": 1,
   "metadata": {
    "collapsed": true
   },
   "outputs": [],
   "source": [
    "import os\n",
    "from pathlib import Path\n",
    "import os.path as osp\n",
    "\n",
    "from IPython.core.interactiveshell import InteractiveShell\n",
    "InteractiveShell.ast_node_interactivity = \"all\"\n",
    "import numpy as np\n",
    "import pandas as pd\n",
    "import matplotlib.pyplot as plt\n",
    "%matplotlib inline\n",
    "%config InlineBackend.figure_format = 'retina'"
   ]
  },
  {
   "cell_type": "code",
   "execution_count": 2,
   "metadata": {
    "collapsed": true
   },
   "outputs": [],
   "source": [
    "from skimage.filters import threshold_otsu\n",
    "\n",
    "BASE_TRUTH_DIR = Path('/home/ubuntu/data/Ground_Truth_Extracted/Mask')\n",
    "\n",
    "def find_patches_from_slide(slide_path, base_truth_dir=BASE_TRUTH_DIR, filter_non_tissue=True):\n",
    "    \"\"\"Returns a dataframe of all patches in slide\n",
    "    input: slide_path: path to WSI file\n",
    "    output: samples: dataframe with the following columns:\n",
    "        slide_path: path of slide\n",
    "        is_tissue: sample contains tissue\n",
    "        is_tumor: truth status of sample\n",
    "        tile_loc: coordinates of samples in slide\n",
    "        \n",
    "    \n",
    "    option: base_truth_dir: directory of truth slides\n",
    "    option: filter_non_tissue: Remove samples no tissue detected\n",
    "    \"\"\"\n",
    "    base_truth_dir = Path(base_truth_dir)\n",
    "    slide_contains_tumor = osp.basename(slide_path).startswith('Tumor_')\n",
    "    \n",
    "    with openslide.open_slide(slide_path) as slide:\n",
    "        thumbnail = slide.get_thumbnail((slide.dimensions[0] / 256, slide.dimensions[1] / 256))\n",
    "    \n",
    "    thumbnail_grey = np.array(thumbnail.convert('L')) # convert to grayscale\n",
    "    thresh = threshold_otsu(thumbnail_grey)\n",
    "    binary = thumbnail_grey > thresh\n",
    "    \n",
    "    patches = pd.DataFrame(pd.DataFrame(binary).stack())\n",
    "    patches['is_tissue'] = ~patches[0]\n",
    "    patches.drop(0, axis=1, inplace=True)\n",
    "    patches['slide_path'] = slide_path\n",
    "    \n",
    "    if slide_contains_tumor:\n",
    "        truth_slide_path = base_truth_dir / osp.basename(slide_path).replace('.tif', '_Mask.tif')\n",
    "        with openslide.open_slide(str(truth_slide_path)) as truth:\n",
    "            thumbnail_truth = truth.get_thumbnail((truth.dimensions[0] / 256, truth.dimensions[1] / 256)) \n",
    "        \n",
    "        patches_y = pd.DataFrame(pd.DataFrame(np.array(thumbnail_truth.convert(\"L\"))).stack())\n",
    "        patches_y['is_tumor'] = patches_y[0] > 0\n",
    "        patches_y.drop(0, axis=1, inplace=True)\n",
    "\n",
    "        samples = pd.concat([patches, patches_y], axis=1)\n",
    "    else:\n",
    "        samples = patches\n",
    "        samples['is_tumor'] = False\n",
    "    \n",
    "    if filter_non_tissue:\n",
    "        samples = samples[samples.is_tissue == True] # remove patches with no tissue\n",
    "    samples['tile_loc'] = list(samples.index)\n",
    "    samples.reset_index(inplace=True, drop=True)\n",
    "    return samples"
   ]
  },
  {
   "cell_type": "code",
   "execution_count": 3,
   "metadata": {
    "collapsed": true
   },
   "outputs": [],
   "source": [
    "def predict_batch_from_model(patches, model):\n",
    "    \"\"\"Predict which pixels are tumor.\n",
    "    \n",
    "    input: patch: batch_size256x256x3, rgb image\n",
    "    input: model: keras model\n",
    "    output: prediction: 256x256x1, per-pixel tumor probability\n",
    "    \"\"\"\n",
    "    batch_size = patches.shape[0]\n",
    "    \n",
    "    predictions = model.predict(patches)\n",
    "    predictions = predictions[:, :, :, 1]\n",
    "    return predictions"
   ]
  },
  {
   "cell_type": "code",
   "execution_count": 4,
   "metadata": {},
   "outputs": [
    {
     "name": "stderr",
     "output_type": "stream",
     "text": [
      "Using TensorFlow backend.\n"
     ]
    }
   ],
   "source": [
    "from keras.models import load_model\n",
    "import openslide\n",
    "\n",
    "model = load_model('model.h5')"
   ]
  },
  {
   "cell_type": "code",
   "execution_count": 5,
   "metadata": {
    "collapsed": true
   },
   "outputs": [],
   "source": [
    "input_dir = Path('/home/ubuntu/data/viewers/Tumor_009/slide_files/18_original')\n",
    "output_dir = '/home/ubuntu/data/viewers/Tumor_009/slide_files/18_heatmap'\n",
    "slide_path = '/home/ubuntu/data/slides/Tumor_009.tif'\n",
    "\n",
    "if not osp.exists(output_dir): os.makedirs(output_dir)"
   ]
  },
  {
   "cell_type": "code",
   "execution_count": 6,
   "metadata": {},
   "outputs": [
    {
     "name": "stdout",
     "output_type": "stream",
     "text": [
      "Total patches in slide: 323936\n"
     ]
    },
    {
     "data": {
      "text/html": [
       "<div>\n",
       "<style>\n",
       "    .dataframe thead tr:only-child th {\n",
       "        text-align: right;\n",
       "    }\n",
       "\n",
       "    .dataframe thead th {\n",
       "        text-align: left;\n",
       "    }\n",
       "\n",
       "    .dataframe tbody tr th {\n",
       "        vertical-align: top;\n",
       "    }\n",
       "</style>\n",
       "<table border=\"1\" class=\"dataframe\">\n",
       "  <thead>\n",
       "    <tr style=\"text-align: right;\">\n",
       "      <th></th>\n",
       "      <th>is_tissue</th>\n",
       "      <th>slide_path</th>\n",
       "      <th>is_tumor</th>\n",
       "      <th>tile_loc</th>\n",
       "    </tr>\n",
       "  </thead>\n",
       "  <tbody>\n",
       "    <tr>\n",
       "      <th>0</th>\n",
       "      <td>False</td>\n",
       "      <td>/home/ubuntu/data/slides/Tumor_009.tif</td>\n",
       "      <td>False</td>\n",
       "      <td>(0, 0)</td>\n",
       "    </tr>\n",
       "    <tr>\n",
       "      <th>1</th>\n",
       "      <td>False</td>\n",
       "      <td>/home/ubuntu/data/slides/Tumor_009.tif</td>\n",
       "      <td>False</td>\n",
       "      <td>(0, 1)</td>\n",
       "    </tr>\n",
       "    <tr>\n",
       "      <th>2</th>\n",
       "      <td>False</td>\n",
       "      <td>/home/ubuntu/data/slides/Tumor_009.tif</td>\n",
       "      <td>False</td>\n",
       "      <td>(0, 2)</td>\n",
       "    </tr>\n",
       "    <tr>\n",
       "      <th>3</th>\n",
       "      <td>False</td>\n",
       "      <td>/home/ubuntu/data/slides/Tumor_009.tif</td>\n",
       "      <td>False</td>\n",
       "      <td>(0, 3)</td>\n",
       "    </tr>\n",
       "    <tr>\n",
       "      <th>4</th>\n",
       "      <td>False</td>\n",
       "      <td>/home/ubuntu/data/slides/Tumor_009.tif</td>\n",
       "      <td>False</td>\n",
       "      <td>(0, 4)</td>\n",
       "    </tr>\n",
       "  </tbody>\n",
       "</table>\n",
       "</div>"
      ],
      "text/plain": [
       "   is_tissue                              slide_path  is_tumor tile_loc\n",
       "0      False  /home/ubuntu/data/slides/Tumor_009.tif     False   (0, 0)\n",
       "1      False  /home/ubuntu/data/slides/Tumor_009.tif     False   (0, 1)\n",
       "2      False  /home/ubuntu/data/slides/Tumor_009.tif     False   (0, 2)\n",
       "3      False  /home/ubuntu/data/slides/Tumor_009.tif     False   (0, 3)\n",
       "4      False  /home/ubuntu/data/slides/Tumor_009.tif     False   (0, 4)"
      ]
     },
     "execution_count": 6,
     "metadata": {},
     "output_type": "execute_result"
    },
    {
     "data": {
      "text/plain": [
       "False    309550\n",
       "True      14386\n",
       "Name: is_tumor, dtype: int64"
      ]
     },
     "execution_count": 6,
     "metadata": {},
     "output_type": "execute_result"
    }
   ],
   "source": [
    "all_samples = find_patches_from_slide(slide_path, filter_non_tissue=False)\n",
    "print('Total patches in slide: %d' % len(all_samples))\n",
    "all_samples.iloc[:5]\n",
    "all_samples.is_tumor.value_counts()"
   ]
  },
  {
   "cell_type": "code",
   "execution_count": 7,
   "metadata": {
    "collapsed": true
   },
   "outputs": [],
   "source": [
    "assert len(all_samples) == len(list(input_dir.glob('*.png'))), \\\n",
    "    \"Number of pngs files does not equal rows in sample df!\""
   ]
  },
  {
   "cell_type": "code",
   "execution_count": 8,
   "metadata": {},
   "outputs": [
    {
     "name": "stderr",
     "output_type": "stream",
     "text": [
      "100%|██████████| 10123/10123 [1:25:27<00:00,  7.36it/s] \n"
     ]
    }
   ],
   "source": [
    "from tqdm import tqdm\n",
    "import cv2\n",
    "from matplotlib import cm\n",
    "import shutil\n",
    "\n",
    "n_samples = len(all_samples)\n",
    "\n",
    "# batch_size = n_cols\n",
    "batch_size = 32\n",
    "\n",
    "# loop through input tiles and output images\n",
    "for offset in tqdm(list(range(0, n_samples, batch_size))):\n",
    "    batch_samples = all_samples.iloc[offset:offset+batch_size]\n",
    "    png_fnames = batch_samples.tile_loc.apply(lambda coord: str(input_dir / ('%d_%d.png' % coord[::-1])))\n",
    "    \n",
    "    X = np.array([plt.imread(str(p)) for p in png_fnames])\n",
    "    X = X * 255.\n",
    "\n",
    "    if batch_samples.is_tissue.nunique() == 1 and batch_samples.iloc[0].is_tissue == False:\n",
    "        # all patches in this row do not have tissue,\n",
    "        # instead just copy over orignal images\n",
    "        for png_fname in png_fnames:\n",
    "            _ = shutil.copy(png_fname, output_dir);\n",
    "    else:\n",
    "        # predict pixels probs\n",
    "        preds = predict_batch_from_model(X, model)\n",
    "\n",
    "        # save blended imgs\n",
    "        for i, png_fname in enumerate(png_fnames):\n",
    "            output_png_fname = png_fname.replace(str(input_dir), output_dir)        \n",
    "            pred_i = preds[i]\n",
    "            output_img = plt.imread(str(png_fname))\n",
    "            alpha = 0.5            \n",
    "            output_img = cv2.cvtColor(output_img, cv2.COLOR_RGB2GRAY)\n",
    "            output_img2 = cv2.cvtColor(output_img.copy(), cv2.COLOR_GRAY2RGB)\n",
    "\n",
    "            overlay = np.float32(cm.jet(pred_i.copy()))[:,:,:3]\n",
    "            blended = cv2.addWeighted(overlay, alpha, output_img2, 1-alpha, 0, output_img)\n",
    "            \n",
    "            plt.imsave(output_png_fname, blended)"
   ]
  }
 ],
 "metadata": {
  "kernelspec": {
   "display_name": "Python 3",
   "language": "python",
   "name": "python3"
  },
  "language_info": {
   "codemirror_mode": {
    "name": "ipython",
    "version": 3
   },
   "file_extension": ".py",
   "mimetype": "text/x-python",
   "name": "python",
   "nbconvert_exporter": "python",
   "pygments_lexer": "ipython3",
   "version": "3.5.2"
  }
 },
 "nbformat": 4,
 "nbformat_minor": 2
}
